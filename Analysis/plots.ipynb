{
 "cells": [
  {
   "cell_type": "markdown",
   "id": "0e354bd7",
   "metadata": {},
   "source": [
    "This notebook is intended to anyalize and desplay the data from the cataloges generated"
   ]
  },
  {
   "cell_type": "code",
   "execution_count": 2,
   "id": "8c55a973",
   "metadata": {},
   "outputs": [],
   "source": [
    "#steal the includes from the other journals\n",
    "from astropy.io import fits\n",
    "from astropy.table import Table#helps read sexfiles\n",
    "import numpy as np\n",
    "import matplotlib.pyplot as plt\n",
    "import os\n",
    "import subprocess\n",
    "from astropy import wcs\n",
    "import scipy as sp\n",
    "import math\n",
    "from io import StringIO\n",
    "from astropy.io import ascii"
   ]
  },
  {
   "cell_type": "code",
   "execution_count": 3,
   "id": "edda7431",
   "metadata": {},
   "outputs": [],
   "source": [
    "#import the catalogues\n",
    "j0205Red=\"/home/wes/Astronomy/Code/catalog_creation/source_extractor/oldj0205red.fits\"\n",
    "j0205Blue=\"/home/wes/Astronomy/Code/catalog_creation/source_extractor/oldj0205blue.fits\"\n",
    "hdulist = fits.open(j0205Red)\n",
    "r=Table.read(hdulist[1])#r = red\n",
    "hdulist = fits.open(j0205Blue)\n",
    "b=Table.read(hdulist[1])#b= blue"
   ]
  },
  {
   "cell_type": "code",
   "execution_count": 22,
   "id": "f7d7caf3",
   "metadata": {},
   "outputs": [
    {
     "name": "stdout",
     "output_type": "stream",
     "text": [
      "NUMBER  X_IMAGE   Y_IMAGE  ALPHA_J2000 ... A_IMAGE B_IMAGE THETA_IMAGE\n",
      "          pix       pix        deg     ...   pix     pix       deg    \n",
      "------ --------- --------- ----------- ... ------- ------- -----------\n",
      "     1 3017.0647 2164.6582  31.4497661 ...   1.296   0.618      -49.77\n",
      "     2 2957.5374 2182.2493  31.4529322 ...   0.912   0.433       -0.36\n",
      "     3 3042.2898 2251.3616  31.4484239 ...   1.656   1.446      -72.72\n",
      "     4 2897.6177 2251.1328  31.4561184 ...   1.184   1.039       18.81\n",
      "     5 2994.1917 2284.4846  31.4509817 ...   1.909   1.774      -48.83\n",
      "     6 2919.8904 2293.0117  31.4549333 ...   7.044   2.098      -13.12\n",
      "   ...       ...       ...         ... ...     ...     ...         ...\n",
      "  1435 3228.2346 4210.3179  31.4385373 ...   1.261   0.905      -50.34\n",
      "  1436 3007.1226 4218.6406  31.4502791 ...   1.492   1.306       18.28\n",
      "  1437 3262.0393 4230.3638  31.4367422 ...   1.566    1.28       61.29\n",
      "  1438 3316.8909 4226.3926  31.4338294 ...   0.992   0.584       43.78\n",
      "  1439 3342.1423 4230.4321  31.4324885 ...   1.055   0.955       58.07\n",
      "  1440 3306.9585 4229.8979  31.4343568 ...    1.14   0.881       -8.29\n",
      "  1441 3326.0454 4236.5928  31.4333433 ...   0.851   0.684       68.72\n",
      "Length = 1441 rows\n",
      "NUMBER  X_IMAGE   Y_IMAGE  ALPHA_J2000 DELTA_J2000 FLAGS CLASS_STAR     FLUX_AUTO          FLUXERR_AUTO          FLUX_ISO          FLUXERR_ISO           FLUX_APER           FLUXERR_APER      FWHM_IMAGE KRON_RADIUS ISOAREA_IMAGE A_IMAGE B_IMAGE THETA_IMAGE\n",
      "          pix       pix        deg         deg                              ct                 pix                  ct                 pix2                  ct                   ct              pix                      pix2       pix     pix       deg    \n",
      "------ --------- --------- ----------- ----------- ----- ---------- ------------------ ------------------- ------------------- -------------------- ------------------- ---------------------- ---------- ----------- ------------- ------- ------- -----------\n",
      "     1 3017.0647 2164.6582  31.4497661 -58.5174595     0      0.776 1.1136686700176441                 inf  0.4199008513817845                  inf  0.7429819833354692                    inf       3.99        5.91            10   1.296   0.618      -49.77\n",
      "     2 2957.5374 2182.2493  31.4529322 -58.5169706     0      0.878 0.5878395036678419                 inf 0.16995653776371963                  inf  0.5139395937707789                    inf       3.71        7.21             4   0.912   0.433       -0.36\n",
      "     3 3042.2898 2251.3616  31.4484239 -58.5150512     0      0.176 1.9561682559340077                 inf  1.5582876655892512                  inf  1.1776090343693337                    inf       2.82         4.5            43   1.656   1.446      -72.72\n",
      "     4 2897.6177 2251.1328  31.4561184 -58.5150568     0      0.999 5.9468169440039675                 inf   5.922195615626636                  inf   5.894961403805903                    inf       1.62         3.5            11   1.184   1.039       18.81\n",
      "     5 2994.1917 2284.4846  31.4509817 -58.5141309     0      0.028  3.965581397091786 0.00263789303808521  3.4691402132260216 0.001287556805069029  2.2737565198961507 0.00026212109274065514       3.26        4.12            70   1.909   1.774      -48.83\n",
      "     6 2919.8904 2293.0117  31.4549333 -58.5138937     0      0.005  9.217320840838955                 inf   7.121405248790666                  inf  1.3148216257865144                    inf       19.3        4.51           251   7.044   2.098      -13.12\n",
      "   ...       ...       ...         ...         ...   ...        ...                ...                 ...                 ...                  ...                 ...                    ...        ...         ...           ...     ...     ...         ...\n",
      "  1435 3228.2346 4210.3179  31.4385373  -58.460636     0      0.933 1.9158391337269702                 inf   1.894642569425346                  inf  1.8445079874689956                    inf       3.25         3.5            11   1.261   0.905      -50.34\n",
      "  1436 3007.1226 4218.6406  31.4502791 -58.4604044     0      0.029 0.6390559260958532                 inf  0.4350009735222641                  inf 0.34690029939642236                    inf       2.74        5.31            32   1.492   1.306       18.28\n",
      "  1437 3262.0393 4230.3638  31.4367422 -58.4600791     0      0.452 3.8489269192442523                 inf  2.2518271666200635                  inf  1.9902977356600895                    inf        3.8        5.28            30   1.566    1.28       61.29\n",
      "  1438 3316.8909 4226.3926  31.4338294 -58.4601893     0      0.956 0.6157946883599399                 inf 0.49337042642726436                  inf  0.5458722312319374                    inf       3.96        3.71             3   0.992   0.584       43.78\n",
      "  1439 3342.1423 4230.4321  31.4324885  -58.460077     0      0.999  4.078597658678593                 inf   4.008305185999505                  inf   4.007592408167388                    inf       1.18         3.5            11   1.055   0.955       58.07\n",
      "  1440 3306.9585 4229.8979  31.4343568 -58.4600919     0      0.999 1.4362482846276883                 inf  1.4230123433334263                  inf  1.4230618947335198                    inf       3.33         3.5             9    1.14   0.881       -8.29\n",
      "  1441 3326.0454 4236.5928  31.4333433 -58.4599059     0      0.999 0.6550035677602433                 inf  0.6594325100170806                  inf  0.6605646642180678                    inf       3.87         3.5             3   0.851   0.684       68.72\n",
      "Length = 1441 rows\n"
     ]
    },
    {
     "ename": "TypeError",
     "evalue": "write() argument must be str, not None",
     "output_type": "error",
     "traceback": [
      "\u001b[0;31m---------------------------------------------------------------------------\u001b[0m",
      "\u001b[0;31mTypeError\u001b[0m                                 Traceback (most recent call last)",
      "\u001b[0;32m/tmp/ipykernel_54126/1580959619.py\u001b[0m in \u001b[0;36m<module>\u001b[0;34m\u001b[0m\n\u001b[1;32m      7\u001b[0m \u001b[0;34m\u001b[0m\u001b[0m\n\u001b[1;32m      8\u001b[0m \u001b[0mmyFile\u001b[0m \u001b[0;34m=\u001b[0m \u001b[0mopen\u001b[0m\u001b[0;34m(\u001b[0m\u001b[0;34m\"catOutput.txt\"\u001b[0m\u001b[0;34m,\u001b[0m\u001b[0;34m\"w\"\u001b[0m\u001b[0;34m)\u001b[0m\u001b[0;34m\u001b[0m\u001b[0;34m\u001b[0m\u001b[0m\n\u001b[0;32m----> 9\u001b[0;31m \u001b[0mmyFile\u001b[0m\u001b[0;34m.\u001b[0m\u001b[0mwrite\u001b[0m\u001b[0;34m(\u001b[0m\u001b[0mr\u001b[0m\u001b[0;34m.\u001b[0m\u001b[0mpprint\u001b[0m\u001b[0;34m(\u001b[0m\u001b[0mmax_width\u001b[0m\u001b[0;34m=\u001b[0m\u001b[0;34m-\u001b[0m\u001b[0;36m1\u001b[0m\u001b[0;34m)\u001b[0m\u001b[0;34m)\u001b[0m\u001b[0;34m\u001b[0m\u001b[0;34m\u001b[0m\u001b[0m\n\u001b[0m\u001b[1;32m     10\u001b[0m \u001b[0mmyFile\u001b[0m\u001b[0;34m.\u001b[0m\u001b[0mclose\u001b[0m\u001b[0;34m(\u001b[0m\u001b[0;34m)\u001b[0m\u001b[0;34m\u001b[0m\u001b[0;34m\u001b[0m\u001b[0m\n",
      "\u001b[0;31mTypeError\u001b[0m: write() argument must be str, not None"
     ]
    }
   ],
   "source": [
    "print(r)\n",
    "\n",
    "#%%capture cap --no-stderr\n",
    "#np.savetxt(\"output.txt\",r)\n",
    "#print(r)\n",
    "\n",
    "\n",
    "#myFile = open(\"catOutput.txt\",\"w\")\n",
    "#myFile.write(r.pprint(max_width=-1))\n",
    "#myFile.close()"
   ]
  },
  {
   "cell_type": "code",
   "execution_count": null,
   "id": "8738d2a8",
   "metadata": {},
   "outputs": [],
   "source": []
  },
  {
   "cell_type": "code",
   "execution_count": 6,
   "id": "20cac8f1",
   "metadata": {},
   "outputs": [
    {
     "data": {
      "image/png": "[encoded data removed]",
      "text/plain": [
       "<Figure size 432x288 with 1 Axes>"
      ]
     },
     "metadata": {
      "needs_background": "light"
     },
     "output_type": "display_data"
    }
   ],
   "source": [
    "#lets make a b-r to b plot\n",
    "dF=b['FLUX_AUTO']-r['FLUX_AUTO']#dF = delta Flux\n",
    "bx=b['FLUX_AUTO']#bx = b axis\n",
    "#print(dF)\n",
    "#print(bx)\n",
    "plt.plot(bx, dF, 'o', color='black');"
   ]
  },
  {
   "cell_type": "markdown",
   "id": "8c8e6179",
   "metadata": {},
   "source": [
    "Okay, I see 3 \"outliers\" I never fixed those weight problems so maybe thats the cause, for now I am going to manualy remove these 3 untill I get something out of this graph then I am going to fix code."
   ]
  },
  {
   "cell_type": "code",
   "execution_count": 7,
   "id": "61c460bf",
   "metadata": {},
   "outputs": [
    {
     "name": "stdout",
     "output_type": "stream",
     "text": [
      "1119\n",
      "93.81167309806504\n",
      "-1666.6885858928297\n",
      "15\n",
      "80.16843835326375\n",
      "-1905.4800419018795\n",
      "12\n",
      "10.334173188312622\n",
      "-226.79834006206175\n"
     ]
    }
   ],
   "source": [
    "#code to help me find the max blue flux galaxy.\n",
    "#first run 1119\n",
    "bucket=0\n",
    "bucket1=0\n",
    "bucket2=0\n",
    "bucketnum=-1\n",
    "bucketnum1=-1\n",
    "bucketnum2=-1\n",
    "for i in range(0,len(bx)):\n",
    "    if(bx[i]>bucket):\n",
    "        bucket2=bucket1\n",
    "        bucketnum2=bucketnum1\n",
    "        bucket1=bucket\n",
    "        bucketnum1=bucketnum\n",
    "        bucket=bx[i]\n",
    "        bucketnum=i\n",
    "toDelete=[bucketnum,bucketnum1,bucketnum2]\n",
    "print(bucketnum)\n",
    "print(bx[bucketnum])\n",
    "print(dF[bucketnum])\n",
    "\n",
    "print(bucketnum1)\n",
    "print(bx[bucketnum1])\n",
    "print(dF[bucketnum1])\n",
    "\n",
    "print(bucketnum2)\n",
    "print(bx[bucketnum2])\n",
    "print(dF[bucketnum2])"
   ]
  },
  {
   "cell_type": "code",
   "execution_count": 8,
   "id": "aec7177c",
   "metadata": {},
   "outputs": [
    {
     "name": "stdout",
     "output_type": "stream",
     "text": [
      "1441\n",
      "1438\n"
     ]
    },
    {
     "data": {
      "image/png": "[encoded data removed]",
      "text/plain": [
       "<Figure size 432x288 with 1 Axes>"
      ]
     },
     "metadata": {
      "needs_background": "light"
     },
     "output_type": "display_data"
    }
   ],
   "source": [
    "ndF = np.zeros(len(dF))#new dF\n",
    "nbx = np.zeros(len(bx))\n",
    "for i in range(0,len(bx)):\n",
    "    ndF[i] = dF[i]\n",
    "    nbx[i] = bx[i]\n",
    "dndF=np.delete(ndF,toDelete)#deleted new dF\n",
    "dnbx=np.delete(nbx,toDelete)\n",
    "print(len(ndF))\n",
    "print(len(dndF))\n",
    "plt.plot(dnbx, dndF, 'o', color='black');\n",
    "#for i in range(0,len(dnbx)):\n",
    "#    dndF[i] = math.log(abs(dndF[i]),10)\n",
    "#    dnbx[i] = math.log(abs(dnbx[i]),10)\n",
    "#plt.plot(dnbx, dndF, 'o', color='black');\n",
    "#there are kind of two lines, star-forming vs quesent, we will probably see once we have more data"
   ]
  },
  {
   "cell_type": "code",
   "execution_count": 9,
   "id": "ec1db1b4",
   "metadata": {},
   "outputs": [
    {
     "data": {
      "text/plain": [
       "(-40.0, 1.0)"
      ]
     },
     "execution_count": 9,
     "metadata": {},
     "output_type": "execute_result"
    },
    {
     "data": {
      "image/png": "[encoded data removed]",
      "text/plain": [
       "<Figure size 432x288 with 1 Axes>"
      ]
     },
     "metadata": {
      "needs_background": "light"
     },
     "output_type": "display_data"
    }
   ],
   "source": [
    "#what was i thinking ealier, just zoom in\n",
    "plt.plot(dnbx, dndF, 'o', color='black');\n",
    "ax = plt.gca()\n",
    "ax.set_xlim([-1, 8])\n",
    "ax.set_ylim([-40, 1])\n"
   ]
  },
  {
   "cell_type": "code",
   "execution_count": 10,
   "id": "e341fd5a",
   "metadata": {},
   "outputs": [
    {
     "name": "stdout",
     "output_type": "stream",
     "text": [
      "    FLUX_AUTO     \n",
      "        ct        \n",
      "------------------\n",
      "1.1136686700176441\n",
      "0.5878395036678419\n",
      "1.9561682559340077\n",
      "5.9468169440039675\n",
      " 3.965581397091786\n",
      " 9.217320840838955\n",
      "               ...\n",
      "1.9158391337269702\n",
      "0.6390559260958532\n",
      "3.8489269192442523\n",
      "0.6157946883599399\n",
      " 4.078597658678593\n",
      "1.4362482846276883\n",
      "0.6550035677602433\n",
      "Length = 1441 rows\n",
      "      FLUX_AUTO       \n",
      "          ct          \n",
      "----------------------\n",
      "   0.01372946371007975\n",
      "   0.04916807236840688\n",
      "  0.025982524396136644\n",
      "  0.008234379246295458\n",
      "   0.02126466888940682\n",
      "    1.0540421362087282\n",
      "                   ...\n",
      "  0.016332474989925495\n",
      "   0.05131817432228073\n",
      "  0.015807468376817246\n",
      "-0.0009528688498266258\n",
      "-0.0034860772629426674\n",
      "-0.0017177221541253799\n",
      "0.00015510693606717542\n",
      "Length = 1441 rows\n"
     ]
    }
   ],
   "source": [
    "#lets convert flux auto to magnitude.\n",
    "#what exactly are the values here\n",
    "print (r['FLUX_AUTO'])\n",
    "print (b['FLUX_AUTO'])"
   ]
  },
  {
   "cell_type": "code",
   "execution_count": 11,
   "id": "5f705089",
   "metadata": {},
   "outputs": [
    {
     "name": "stdout",
     "output_type": "stream",
     "text": [
      "9.274571876525998\n",
      "9.498639849110996\n",
      "6.200812861089986\n",
      "6.22137988655351\n",
      "8.799425582673049\n",
      "5.390863780519474\n",
      "7.456036535126741\n",
      "10.02235934329211\n",
      "8.360999821476133\n",
      "10.673554233684552\n",
      "7.841333858074089\n",
      "11.33844911436385\n",
      "11.11971826093189\n",
      "12.458782264588136\n",
      "9.4656268107302\n",
      "9.203079171798977\n",
      "9.075534347268263\n",
      "10.362764669022596\n",
      "12.065886905814054\n",
      "9.786208477317631\n",
      "11.810991218987798\n",
      "10.92260933294904\n",
      "10.68013847035151\n",
      "8.915297622417583\n",
      "9.62765226625844\n",
      "11.116530987772746\n",
      "11.67502291565204\n",
      "11.814521887817602\n",
      "6.871499440331235\n",
      "11.370832672244386\n",
      "10.008945754224872\n",
      "12.048827501889086\n",
      "11.935255655857343\n",
      "10.838158438497029\n",
      "9.131675529622223\n",
      "7.872132238231942\n",
      "11.66661638526657\n",
      "10.341956628033751\n",
      "11.89220852482225\n",
      "11.362706819338177\n",
      "8.992620454863676\n",
      "10.862769197717464\n",
      "11.905847523309802\n",
      "10.959767975569035\n",
      "12.1018165531512\n",
      "10.590174860301751\n",
      "11.92820445110443\n",
      "11.797330348428591\n",
      "8.346434118429748\n",
      "10.01195494993244\n",
      "10.915047562414749\n",
      "12.374912062125453\n",
      "7.087838335226191\n",
      "7.064815159403342\n",
      "8.888269521661753\n",
      "11.343371803331294\n",
      "10.66209047813719\n",
      "9.909718150805185\n",
      "11.387470093267503\n",
      "9.842579509375655\n",
      "10.40730063377791\n",
      "10.24672297512736\n",
      "9.774118255371771\n",
      "11.74530880752878\n",
      "11.674037285419661\n",
      "10.79843800104297\n",
      "9.608501811385343\n",
      "11.078530895405159\n",
      "11.248786916186017\n",
      "11.061744674508843\n",
      "12.34100476576278\n",
      "9.686388049270402\n",
      "11.348756421301445\n",
      "9.072323557168701\n",
      "9.841543867536233\n",
      "11.02442126279081\n",
      "12.34581683512851\n",
      "9.472836524840472\n",
      "9.095676074709102\n",
      "10.736630463180889\n",
      "11.866572102952137\n",
      "10.431775877871331\n",
      "8.2143691477895\n",
      "11.335421701113704\n",
      "11.295972556349378\n",
      "11.590833029934227\n",
      "12.232002034552231\n",
      "12.047983452996185\n",
      "10.955939559676365\n",
      "10.317896943112741\n",
      "9.18251990605874\n",
      "8.899426031267417\n",
      "10.827402711160385\n",
      "11.501691033285052\n",
      "11.44917258298814\n",
      "12.43210083045087\n",
      "10.759626139643515\n",
      "9.37420681832\n",
      "10.941334246025177\n",
      "8.186267077771495\n",
      "12.091202869612758\n",
      "10.502764011794156\n",
      "4.992906692195696\n",
      "11.48324028861196\n",
      "9.397677909342192\n",
      "10.396815630486024\n",
      "9.71570297253561\n",
      "12.150411378022659\n",
      "11.028546845224232\n",
      "12.183901137581167\n",
      "9.74979802486036\n",
      "11.857577605954132\n",
      "11.728019873853842\n",
      "11.451668469933889\n",
      "10.95871062297033\n",
      "7.412918642982015\n",
      "10.707767075706515\n",
      "11.647887993135456\n",
      "11.730903869023308\n",
      "10.719373301969954\n",
      "9.034722753913373\n",
      "11.184652535178918\n",
      "12.033262838296144\n",
      "8.484779173132594\n",
      "8.286631785457413\n",
      "9.728149200518624\n",
      "11.635819956435062\n",
      "7.395345826381047\n",
      "8.99937675336999\n",
      "11.981297020484993\n",
      "11.875015206576986\n",
      "11.17652731481715\n",
      "9.046793654160286\n",
      "6.158923038974037\n",
      "8.901239942802437\n",
      "9.71099245737715\n",
      "10.601417948000114\n",
      "11.208300260982016\n",
      "8.401990368179153\n",
      "7.415691303995159\n",
      "12.252977318920452\n",
      "10.4694510350968\n",
      "9.839481292845903\n",
      "7.48543665623915\n",
      "11.394033219571966\n",
      "5.293043424953603\n",
      "10.3727251958611\n",
      "10.784625053571947\n",
      "12.570504325375431\n",
      "11.610943542333983\n",
      "10.333361893229629\n",
      "11.151110574999334\n",
      "10.841619284965741\n",
      "12.238519910086726\n",
      "10.961855380683765\n",
      "9.464217422929936\n",
      "9.192543993666746\n",
      "11.605480335670975\n",
      "7.3519680436230805\n",
      "11.278412264875817\n",
      "9.868306700332427\n",
      "11.99969932578008\n",
      "10.860177453776934\n",
      "10.819821076682834\n",
      "10.078852371316405\n",
      "12.260936891240155\n",
      "8.927790165861062\n",
      "11.273817948590683\n",
      "10.036285312148642\n",
      "7.1102004805453145\n",
      "11.902789862789003\n",
      "11.287416098100673\n",
      "10.372922544452889\n",
      "10.731194350548833\n",
      "11.059161337233725\n",
      "10.033743721906001\n",
      "7.852378121519205\n",
      "9.33063104902693\n",
      "10.375380941136044\n",
      "10.502645808018787\n",
      "11.20216354972747\n",
      "10.941943603268797\n",
      "7.928037393642541\n",
      "12.824361465559038\n",
      "12.437841616912522\n",
      "12.417844181167242\n",
      "9.178070984937614\n",
      "11.076334831082386\n",
      "11.145398165094072\n",
      "10.958468202778771\n",
      "11.309049427213019\n",
      "12.120738223327391\n",
      "10.25758574055849\n",
      "11.676438346815065\n",
      "11.40738497377314\n",
      "10.233274351622283\n",
      "10.382460844963347\n",
      "10.033223414825262\n",
      "9.71954311905423\n",
      "8.484068733753801\n",
      "8.563537784230679\n",
      "12.19546948881835\n",
      "9.675139516599087\n",
      "9.698192260251432\n",
      "8.544012257485317\n",
      "9.277835060512622\n",
      "11.557092919702285\n",
      "11.296965310791114\n",
      "12.142953228193395\n",
      "11.610032702281625\n",
      "11.612083697644469\n",
      "11.036949975238654\n",
      "11.56023793431549\n",
      "12.525675722154507\n",
      "11.874108977176201\n",
      "9.97172301322974\n",
      "10.488978930852568\n",
      "11.33879221752009\n",
      "10.619841755509263\n",
      "11.515159049999578\n",
      "11.372182218469781\n",
      "10.701377864543813\n",
      "9.907098977048758\n",
      "10.672309820279883\n",
      "11.9189627779813\n",
      "7.715918409961397\n",
      "11.648275020301934\n",
      "10.16554754959732\n",
      "11.152201188246716\n",
      "12.520206467784956\n",
      "10.97871054164085\n",
      "11.684719445464474\n",
      "9.271410608438554\n",
      "8.954969284141454\n",
      "10.538241158351244\n",
      "11.395200820920461\n",
      "8.770300940183393\n",
      "12.073219639763943\n",
      "10.991894626278011\n",
      "11.581151784430803\n",
      "9.878142517763694\n",
      "10.713388259513053\n",
      "12.297809811571714\n",
      "11.641673607237152\n",
      "11.076022290900365\n",
      "10.390326922257254\n",
      "10.328632356534476\n",
      "10.133140724424948\n",
      "11.075896581717364\n",
      "11.491157973637112\n",
      "9.281848917927295\n",
      "12.227063221672855\n",
      "10.84326920471883\n",
      "11.411520964158886\n",
      "11.398078939247023\n",
      "8.283817909431617\n",
      "12.323933473477348\n",
      "10.356691990857843\n",
      "10.084860366139408\n",
      "11.100105304395896\n",
      "12.250487131236099\n",
      "10.617761573748645\n",
      "10.964546949947922\n",
      "9.057610411735812\n",
      "11.732540996280665\n",
      "11.367088014112465\n",
      "10.596038757201727\n",
      "11.119041639526055\n",
      "11.001733173288422\n",
      "9.498489467726372\n",
      "7.44580215000264\n",
      "8.57900550648474\n"
     ]
    }
   ],
   "source": [
    "#m1 = -2.5log(f/3880)\n",
    "#first lets create the magnitude arrays\n",
    "mr = np.zeros(len(r['FLUX_AUTO']))#magnitude red\n",
    "mb = np.zeros(len(b['FLUX_AUTO']))\n",
    "\n",
    "for i in range(0,len(r['FLUX_AUTO'])):\n",
    "    mr[i] = -2.5*(math.log((r['FLUX_AUTO'][i]/3880),10))\n",
    "    if(b['FLUX_AUTO'][i]>=0):\n",
    "        mb[i] = -2.5*(math.log((b['FLUX_AUTO'][i]/3880),10))\n",
    "    else:\n",
    "        mb[i]=mr[i]\n",
    "        print(mb[i])\n",
    "        \n",
    "#find the correct fluxes and use the correct divide by"
   ]
  },
  {
   "cell_type": "code",
   "execution_count": 12,
   "id": "1091caf6",
   "metadata": {},
   "outputs": [
    {
     "data": {
      "image/png": "[encoded data removed]",
      "text/plain": [
       "<Figure size 432x288 with 1 Axes>"
      ]
     },
     "metadata": {
      "needs_background": "light"
     },
     "output_type": "display_data"
    }
   ],
   "source": [
    "plt.plot(mb, mb-mr, 'o', color='black');"
   ]
  },
  {
   "cell_type": "code",
   "execution_count": null,
   "id": "de6e9cd2",
   "metadata": {},
   "outputs": [],
   "source": []
  }
 ],
 "metadata": {
  "kernelspec": {
   "display_name": "Python 3 (ipykernel)",
   "language": "python",
   "name": "python3"
  },
  "language_info": {
   "codemirror_mode": {
    "name": "ipython",
    "version": 3
   },
   "file_extension": ".py",
   "mimetype": "text/x-python",
   "name": "python",
   "nbconvert_exporter": "python",
   "pygments_lexer": "ipython3",
   "version": "3.9.7"
  }
 },
 "nbformat": 4,
 "nbformat_minor": 5
}
