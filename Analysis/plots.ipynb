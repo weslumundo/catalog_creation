{
 "cells": [
  {
   "cell_type": "markdown",
   "id": "0e354bd7",
   "metadata": {},
   "source": [
    "This notebook is intended to anyalize and desplay the data from the cataloges generated"
   ]
  },
  {
   "cell_type": "code",
   "execution_count": 37,
   "id": "8c55a973",
   "metadata": {},
   "outputs": [],
   "source": [
    "#steal the includes from the other journals\n",
    "from astropy.io import fits\n",
    "from astropy.table import Table#helps read sexfiles\n",
    "import numpy as np\n",
    "import matplotlib.pyplot as plt\n",
    "import os\n",
    "import subprocess\n",
    "from astropy import wcs\n",
    "import scipy as sp\n",
    "import math\n",
    "from io import StringIO\n",
    "from astropy.io import ascii"
   ]
  },
  {
   "cell_type": "code",
   "execution_count": 5,
   "id": "edda7431",
   "metadata": {},
   "outputs": [],
   "source": [
    "#import the catalogues\n",
    "j0205Red=\"/home/wes/Astronomy/Code/catalog_creation/source_extractor/j0205red.fits\"\n",
    "j0205Blue=\"/home/wes/Astronomy/Code/catalog_creation/source_extractor/j0205blue.fits\"\n",
    "hdulist = fits.open(j0205Red)\n",
    "r=Table.read(hdulist[1])#r = red\n",
    "hdulist = fits.open(j0205Blue)\n",
    "b=Table.read(hdulist[1])#b= blue"
   ]
  },
  {
   "cell_type": "code",
   "execution_count": 29,
   "id": "20cac8f1",
   "metadata": {},
   "outputs": [
    {
     "data": {
      "image/png": "[encoded data removed]",
      "text/plain": [
       "<Figure size 432x288 with 1 Axes>"
      ]
     },
     "metadata": {
      "needs_background": "light"
     },
     "output_type": "display_data"
    }
   ],
   "source": [
    "#lets make a b-r to b plot\n",
    "dF=b['FLUX_AUTO']-r['FLUX_AUTO']#dF = delta Flux\n",
    "bx=b['FLUX_AUTO']#bx = b axis\n",
    "#print(dF)\n",
    "#print(bx)\n",
    "plt.plot(bx, dF, 'o', color='black');"
   ]
  },
  {
   "cell_type": "markdown",
   "id": "8c8e6179",
   "metadata": {},
   "source": [
    "Okay, I see 3 \"outliers\" I never fixed those weight problems so maybe thats the cause, for now I am going to manualy remove these 3 untill I get something out of this graph then I am going to fix code."
   ]
  },
  {
   "cell_type": "code",
   "execution_count": 25,
   "id": "61c460bf",
   "metadata": {},
   "outputs": [
    {
     "name": "stdout",
     "output_type": "stream",
     "text": [
      "1119\n",
      "93.81167309806504\n",
      "-1666.6885858928297\n",
      "15\n",
      "80.16843835326375\n",
      "-1905.4800419018795\n",
      "12\n",
      "10.334173188312622\n",
      "-226.79834006206175\n"
     ]
    }
   ],
   "source": [
    "#code to help me find the max blue flux galaxy.\n",
    "#first run 1119\n",
    "bucket=0\n",
    "bucket1=0\n",
    "bucket2=0\n",
    "bucketnum=-1\n",
    "bucketnum1=-1\n",
    "bucketnum2=-1\n",
    "for i in range(0,len(bx)):\n",
    "    if(bx[i]>bucket):\n",
    "        bucket2=bucket1\n",
    "        bucketnum2=bucketnum1\n",
    "        bucket1=bucket\n",
    "        bucketnum1=bucketnum\n",
    "        bucket=bx[i]\n",
    "        bucketnum=i\n",
    "toDelete=[bucketnum,bucketnum1,bucketnum2]\n",
    "print(bucketnum)\n",
    "print(bx[bucketnum])\n",
    "print(dF[bucketnum])\n",
    "\n",
    "print(bucketnum1)\n",
    "print(bx[bucketnum1])\n",
    "print(dF[bucketnum1])\n",
    "\n",
    "print(bucketnum2)\n",
    "print(bx[bucketnum2])\n",
    "print(dF[bucketnum2])"
   ]
  },
  {
   "cell_type": "code",
   "execution_count": 43,
   "id": "aec7177c",
   "metadata": {},
   "outputs": [
    {
     "name": "stdout",
     "output_type": "stream",
     "text": [
      "1441\n",
      "1438\n"
     ]
    },
    {
     "data": {
      "image/png": "[encoded data removed]",
      "text/plain": [
       "<Figure size 432x288 with 1 Axes>"
      ]
     },
     "metadata": {
      "needs_background": "light"
     },
     "output_type": "display_data"
    }
   ],
   "source": [
    "ndF = np.zeros(len(dF))#new dF\n",
    "nbx = np.zeros(len(bx))\n",
    "for i in range(0,len(bx)):\n",
    "    ndF[i] = dF[i]\n",
    "    nbx[i] = bx[i]\n",
    "dndF=np.delete(ndF,toDelete)#deleted new dF\n",
    "dnbx=np.delete(nbx,toDelete)\n",
    "print(len(ndF))\n",
    "print(len(dndF))\n",
    "plt.plot(dnbx, dndF, 'o', color='black');\n",
    "#for i in range(0,len(dnbx)):\n",
    "#    dndF[i] = math.log(abs(dndF[i]),10)\n",
    "#    dnbx[i] = math.log(abs(dnbx[i]),10)\n",
    "#plt.plot(dnbx, dndF, 'o', color='black');\n",
    "#there are kind of two lines, star-forming vs quesent, we will probably see once we have more data"
   ]
  },
  {
   "cell_type": "code",
   "execution_count": 53,
   "id": "ec1db1b4",
   "metadata": {},
   "outputs": [
    {
     "data": {
      "text/plain": [
       "(-40.0, 1.0)"
      ]
     },
     "execution_count": 53,
     "metadata": {},
     "output_type": "execute_result"
    },
    {
     "data": {
      "image/png": "[encoded data removed]",
      "text/plain": [
       "<Figure size 432x288 with 1 Axes>"
      ]
     },
     "metadata": {
      "needs_background": "light"
     },
     "output_type": "display_data"
    }
   ],
   "source": [
    "#what was i thinking ealier, just zoom in\n",
    "plt.plot(dnbx, dndF, 'o', color='black');\n",
    "ax = plt.gca()\n",
    "ax.set_xlim([-1, 8])\n",
    "ax.set_ylim([-40, 1])\n"
   ]
  }
 ],
 "metadata": {
  "kernelspec": {
   "display_name": "Python 3 (ipykernel)",
   "language": "python",
   "name": "python3"
  },
  "language_info": {
   "codemirror_mode": {
    "name": "ipython",
    "version": 3
   },
   "file_extension": ".py",
   "mimetype": "text/x-python",
   "name": "python",
   "nbconvert_exporter": "python",
   "pygments_lexer": "ipython3",
   "version": "3.9.7"
  }
 },
 "nbformat": 4,
 "nbformat_minor": 5
}
