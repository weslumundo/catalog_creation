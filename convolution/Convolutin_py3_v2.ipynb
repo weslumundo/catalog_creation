{
 "cells": [
  {
   "cell_type": "markdown",
   "metadata": {},
   "source": [
    "## Cell 1:"
   ]
  },
  {
   "cell_type": "code",
   "execution_count": 1,
   "metadata": {},
   "outputs": [],
   "source": [
    "#Cell 1\n",
    "# okay, so---make a bunch of convolved images\n",
    "# turn them into simple catalogs\n",
    "# then calculate the fwhm of the star-like objects in the resultant catalog\n",
    "# only challenge--I need a seeing FWHM for this thing to run.\n",
    "#hmm. what do I use for real source extractor runnings? default_dualmode.sex says:\n",
    "#I manually set it to 0.195 for the F105w filter, and 0.204 for the F606w filter. \n",
    "#if I remember correctly, this is mostly used for class_star separation, but that does sort of play a role in\n",
    "#figuring out what the fwhm of the stars are, which is exactly what we need\n",
    "#"
   ]
  },
  {
   "cell_type": "markdown",
   "metadata": {},
   "source": [
    "## Cell 2:"
   ]
  },
  {
   "cell_type": "code",
   "execution_count": 2,
   "metadata": {},
   "outputs": [],
   "source": [
    "#cell 2\n",
    "import numpy as np\n",
    "import array as arr\n",
    "from astropy import table\n",
    "#from reproject import reproject_exact ;not reprojecting in here\n",
    "import matplotlib.pyplot as plt\n",
    "from astropy.wcs import WCS\n",
    "from astropy.io import fits\n",
    "from astropy.convolution import Gaussian2DKernel\n",
    "from astropy.convolution import convolve\n",
    "import sewpy\n",
    "import iterate_convolution as ic\n",
    "from astropy.coordinates import SkyCoord\n",
    "import astropy.units as u\n",
    "from astropy.table import Table, join\n",
    "import astropy.table\n",
    "\n"
   ]
  },
  {
   "cell_type": "markdown",
   "metadata": {},
   "source": [
    "## Cell 3:"
   ]
  },
  {
   "cell_type": "code",
   "execution_count": 3,
   "metadata": {},
   "outputs": [],
   "source": [
    "#cell 3\n",
    "#original files to work with\n",
    "#@@@\n",
    "fileblue='/home/wes/Astronomy/Data/GoGreen/j020548m5829/PreData/j020548m5829-f606w_drc_sci.fits'\n",
    "filered='/home/wes/Astronomy/Data/GoGreen/j020548m5829/PreData/j020548m5829-f140w_drz_sci.fits'\n",
    "filereprojd='/home/wes/Astronomy/Data/GoGreen/j020548m5829/ProData/newHeader_j0205.fits'\n",
    "#this reprojd file is the output of the reprojectin.py program\n",
    "\n",
    "h_red=fits.open(filered)\n",
    "h_blue=fits.open(filereprojd)\n",
    "h_original=fits.open(fileblue)\n",
    "hdr_red=h_red[0].header\n",
    "hdr_reprj=h_blue[0].header\n",
    "hdr_ogblue=h_original[0].header\n",
    "ident1='sept21_'\n",
    "ident2='sept21b_'\n",
    "\n",
    "fwhm_blue_pix = 2.5 #well, you need to measure this using imexamine/topcat; this should be true for both blue images, original and reprojected\n",
    "fwhm_red_pix = 1.85 #well, you need to measure this as ^"
   ]
  },
  {
   "cell_type": "markdown",
   "metadata": {},
   "source": [
    "## Cell 4:"
   ]
  },
  {
   "cell_type": "code",
   "execution_count": 5,
   "metadata": {},
   "outputs": [
    {
     "name": "stderr",
     "output_type": "stream",
     "text": [
      "Ouch, SExtractor complains :\n",
      "b''\n",
      "/tmp/ipykernel_4703/526438284.py:9: RuntimeWarning: invalid value encountered in log10\n",
      "  pseudomag=(-1.0)*np.log10(table_red['FLUX_APER'])\n"
     ]
    },
    {
     "name": "stdout",
     "output_type": "stream",
     "text": [
      "filtered data is size: 10\n",
      "Median FWHM_IMAGE 1.1400000000000001 Mean FWHM_IMAGE 1.166\n",
      "0.11399999999999683\n",
      "fwhmbluearc 0.124999999999992\n",
      "convolving...\n",
      "/home/wes/Astronomy/Data/GoGreen/j020548m5829/ProData/newHeader_j0205_conv_sept21_0.fits\n",
      "convolving...\n",
      "/home/wes/Astronomy/Data/GoGreen/j020548m5829/ProData/newHeader_j0205_conv_sept21_1.fits\n",
      "convolving...\n",
      "/home/wes/Astronomy/Data/GoGreen/j020548m5829/ProData/newHeader_j0205_conv_sept21_2.fits\n",
      "convolving...\n",
      "/home/wes/Astronomy/Data/GoGreen/j020548m5829/ProData/newHeader_j0205_conv_sept21_3.fits\n",
      "convolving...\n",
      "/home/wes/Astronomy/Data/GoGreen/j020548m5829/ProData/newHeader_j0205_conv_sept21_4.fits\n",
      "convolving...\n",
      "/home/wes/Astronomy/Data/GoGreen/j020548m5829/ProData/newHeader_j0205_conv_sept21_5.fits\n",
      "convolving...\n",
      "/home/wes/Astronomy/Data/GoGreen/j020548m5829/ProData/newHeader_j0205_conv_sept21_6.fits\n",
      "convolving...\n",
      "/home/wes/Astronomy/Data/GoGreen/j020548m5829/ProData/newHeader_j0205_conv_sept21_7.fits\n",
      "convolving...\n",
      "/home/wes/Astronomy/Data/GoGreen/j020548m5829/ProData/newHeader_j0205_conv_sept21_8.fits\n",
      "convolving...\n",
      "/home/wes/Astronomy/Data/GoGreen/j020548m5829/ProData/newHeader_j0205_conv_sept21_9.fits\n",
      "convolving...\n",
      "/home/wes/Astronomy/Data/GoGreen/j020548m5829/ProData/newHeader_j0205_conv_sept21_10.fits\n",
      "convolving...\n",
      "/home/wes/Astronomy/Data/GoGreen/j020548m5829/ProData/newHeader_j0205_conv_sept21_11.fits\n",
      "convolving...\n",
      "/home/wes/Astronomy/Data/GoGreen/j020548m5829/ProData/newHeader_j0205_conv_sept21_12.fits\n",
      "convolving...\n",
      "/home/wes/Astronomy/Data/GoGreen/j020548m5829/ProData/newHeader_j0205_conv_sept21_13.fits\n",
      "convolving...\n",
      "/home/wes/Astronomy/Data/GoGreen/j020548m5829/ProData/newHeader_j0205_conv_sept21_14.fits\n",
      "done convolving\n"
     ]
    }
   ],
   "source": [
    "#cell 4\n",
    "# iterative convolution\n",
    "#do some calculations about the range of convolution kernels to try\n",
    "\n",
    "cd1_red=hdr_red['CD1_1']\n",
    "cd1_red_arc=abs(cd1_red) * 3600.0\n",
    "fwhm_red_arc= fwhm_red_pix*cd1_red_arc\n",
    "table_red=ic.makecat(filered,see=fwhm_red_arc)\n",
    "pseudomag=(-1.0)*np.log10(table_red['FLUX_APER'])\n",
    "table_red['MAG']=pseudomag #calcfwhm won't run without a 'Mag' column to select the most 'stellar sequence' of objects\n",
    "redtable_temp=ic.calcfwhm(table_red,star_limit=0.8,maglow=-2.5,maghigh=-0.25,fwhmlim=3.5)\n",
    "fwhm_red_recalcd=np.median(redtable_temp['FWHM_IMAGE'])\n",
    "fwhm_red_recalc_arc=fwhm_red_recalcd*cd1_red_arc\n",
    "print(fwhm_red_recalc_arc)\n",
    "\n",
    "#only need this to get a reasonable range for the convolution kernels to try\n",
    "cd1_blue=hdr_ogblue['CD1_1']\n",
    "cd1_blue_arc=abs(cd1_blue)*3600.0\n",
    "fwhm_blue_arc=fwhm_blue_pix*cd1_blue_arc\n",
    "print('fwhmbluearc',fwhm_blue_arc)\n",
    "\n",
    "#only need this to convert to the correct pixel scale. \n",
    "cd1_reproj=hdr_reprj['CD1_1']\n",
    "cd1_reproj_arc=abs(cd1_reproj)*3600.0\n",
    "\n",
    "\n",
    "##Below, we do a first pass at a variety of convolution kernels and then take a look at their results\n",
    "\n",
    "########an average in-between value would be calculated like this: fwhm2=((fwhmarcred**2.0)-(fwhmarcblue**2.0))**(1/2)\n",
    "#or set up an array to do several convolutions, which is what is below.\n",
    "\n",
    "yarray1=np.linspace(fwhm_red_recalc_arc,fwhm_blue_arc,15,endpoint=True)\n",
    "#that's an appropriate range in arcseconds\n",
    "yarray=yarray1/cd1_reproj_arc\n",
    "#now it's in pixels\n",
    "#print(yarray1)\n",
    "\n",
    "\n",
    "m=0\n",
    "files=[]\n",
    "for item in yarray: #switch this yarray to yarr2 for next iteration\n",
    "    filename=ic.conv2Dgauss(filereprojd,item,i=m,ident=ident1)\n",
    "    m+=1\n",
    "    files.append(filename)\n",
    "    print(filename)\n",
    "print('done convolving')\n"
   ]
  },
  {
   "cell_type": "markdown",
   "metadata": {},
   "source": [
    "## Cell 5:"
   ]
  },
  {
   "cell_type": "code",
   "execution_count": 7,
   "metadata": {},
   "outputs": [
    {
     "name": "stderr",
     "output_type": "stream",
     "text": [
      "Ouch, SExtractor complains :\n",
      "b''\n"
     ]
    },
    {
     "name": "stdout",
     "output_type": "stream",
     "text": [
      "/home/wes/Astronomy/Data/GoGreen/j020548m5829/ProData/newHeader_j0205_conv_sept21_0.fits\n",
      "convolved by FWHM 1.1400000000000001 pixels, aka 0.11399999999999683 arcsec kernel\n"
     ]
    },
    {
     "name": "stderr",
     "output_type": "stream",
     "text": [
      "Ouch, SExtractor complains :\n",
      "b''\n"
     ]
    },
    {
     "name": "stdout",
     "output_type": "stream",
     "text": [
      "filtered data is size: 39\n",
      "Median FWHM_IMAGE 1.46 Mean FWHM_IMAGE 1.5228205128205128\n",
      "-------------\n",
      "/home/wes/Astronomy/Data/GoGreen/j020548m5829/ProData/newHeader_j0205_conv_sept21_1.fits\n",
      "convolved by FWHM 1.1478571428571398 pixels, aka 0.11478571428571077 arcsec kernel\n"
     ]
    },
    {
     "name": "stderr",
     "output_type": "stream",
     "text": [
      "Ouch, SExtractor complains :\n",
      "b''\n"
     ]
    },
    {
     "name": "stdout",
     "output_type": "stream",
     "text": [
      "filtered data is size: 38\n",
      "Median FWHM_IMAGE 1.5 Mean FWHM_IMAGE 1.608421052631579\n",
      "-------------\n",
      "/home/wes/Astronomy/Data/GoGreen/j020548m5829/ProData/newHeader_j0205_conv_sept21_2.fits\n",
      "convolved by FWHM 1.1557142857142793 pixels, aka 0.1155714285714247 arcsec kernel\n"
     ]
    },
    {
     "name": "stderr",
     "output_type": "stream",
     "text": [
      "Ouch, SExtractor complains :\n",
      "b''\n"
     ]
    },
    {
     "name": "stdout",
     "output_type": "stream",
     "text": [
      "filtered data is size: 39\n",
      "Median FWHM_IMAGE 1.53 Mean FWHM_IMAGE 1.6043589743589743\n",
      "-------------\n",
      "/home/wes/Astronomy/Data/GoGreen/j020548m5829/ProData/newHeader_j0205_conv_sept21_3.fits\n",
      "convolved by FWHM 1.163571428571419 pixels, aka 0.11635714285713865 arcsec kernel\n"
     ]
    },
    {
     "name": "stderr",
     "output_type": "stream",
     "text": [
      "Ouch, SExtractor complains :\n",
      "b''\n"
     ]
    },
    {
     "name": "stdout",
     "output_type": "stream",
     "text": [
      "filtered data is size: 43\n",
      "Median FWHM_IMAGE 1.54 Mean FWHM_IMAGE 1.6625581395348838\n",
      "-------------\n",
      "/home/wes/Astronomy/Data/GoGreen/j020548m5829/ProData/newHeader_j0205_conv_sept21_4.fits\n",
      "convolved by FWHM 1.1714285714285586 pixels, aka 0.1171428571428526 arcsec kernel\n"
     ]
    },
    {
     "name": "stderr",
     "output_type": "stream",
     "text": [
      "Ouch, SExtractor complains :\n",
      "b''\n"
     ]
    },
    {
     "name": "stdout",
     "output_type": "stream",
     "text": [
      "filtered data is size: 42\n",
      "Median FWHM_IMAGE 1.5750000000000002 Mean FWHM_IMAGE 1.7111904761904764\n",
      "-------------\n",
      "/home/wes/Astronomy/Data/GoGreen/j020548m5829/ProData/newHeader_j0205_conv_sept21_5.fits\n",
      "convolved by FWHM 1.1792857142856983 pixels, aka 0.11792857142856654 arcsec kernel\n"
     ]
    },
    {
     "name": "stderr",
     "output_type": "stream",
     "text": [
      "Ouch, SExtractor complains :\n",
      "b''\n"
     ]
    },
    {
     "name": "stdout",
     "output_type": "stream",
     "text": [
      "filtered data is size: 43\n",
      "Median FWHM_IMAGE 1.6 Mean FWHM_IMAGE 1.7251162790697676\n",
      "-------------\n",
      "/home/wes/Astronomy/Data/GoGreen/j020548m5829/ProData/newHeader_j0205_conv_sept21_6.fits\n",
      "convolved by FWHM 1.187142857142838 pixels, aka 0.11871428571428047 arcsec kernel\n"
     ]
    },
    {
     "name": "stderr",
     "output_type": "stream",
     "text": [
      "Ouch, SExtractor complains :\n",
      "b''\n"
     ]
    },
    {
     "name": "stdout",
     "output_type": "stream",
     "text": [
      "filtered data is size: 42\n",
      "Median FWHM_IMAGE 1.61 Mean FWHM_IMAGE 1.744047619047619\n",
      "-------------\n",
      "/home/wes/Astronomy/Data/GoGreen/j020548m5829/ProData/newHeader_j0205_conv_sept21_7.fits\n",
      "convolved by FWHM 1.1949999999999776 pixels, aka 0.11949999999999442 arcsec kernel\n"
     ]
    },
    {
     "name": "stderr",
     "output_type": "stream",
     "text": [
      "Ouch, SExtractor complains :\n",
      "b''\n"
     ]
    },
    {
     "name": "stdout",
     "output_type": "stream",
     "text": [
      "filtered data is size: 42\n",
      "Median FWHM_IMAGE 1.62 Mean FWHM_IMAGE 1.7588095238095238\n",
      "-------------\n",
      "/home/wes/Astronomy/Data/GoGreen/j020548m5829/ProData/newHeader_j0205_conv_sept21_8.fits\n",
      "convolved by FWHM 1.2028571428571173 pixels, aka 0.12028571428570836 arcsec kernel\n"
     ]
    },
    {
     "name": "stderr",
     "output_type": "stream",
     "text": [
      "Ouch, SExtractor complains :\n",
      "b''\n"
     ]
    },
    {
     "name": "stdout",
     "output_type": "stream",
     "text": [
      "filtered data is size: 42\n",
      "Median FWHM_IMAGE 1.625 Mean FWHM_IMAGE 1.768095238095238\n",
      "-------------\n",
      "/home/wes/Astronomy/Data/GoGreen/j020548m5829/ProData/newHeader_j0205_conv_sept21_9.fits\n",
      "convolved by FWHM 1.2107142857142568 pixels, aka 0.1210714285714223 arcsec kernel\n"
     ]
    },
    {
     "name": "stderr",
     "output_type": "stream",
     "text": [
      "Ouch, SExtractor complains :\n",
      "b''\n"
     ]
    },
    {
     "name": "stdout",
     "output_type": "stream",
     "text": [
      "filtered data is size: 42\n",
      "Median FWHM_IMAGE 1.6349999999999998 Mean FWHM_IMAGE 1.7619047619047623\n",
      "-------------\n",
      "/home/wes/Astronomy/Data/GoGreen/j020548m5829/ProData/newHeader_j0205_conv_sept21_10.fits\n",
      "convolved by FWHM 1.2185714285713964 pixels, aka 0.12185714285713624 arcsec kernel\n"
     ]
    },
    {
     "name": "stderr",
     "output_type": "stream",
     "text": [
      "Ouch, SExtractor complains :\n",
      "b''\n"
     ]
    },
    {
     "name": "stdout",
     "output_type": "stream",
     "text": [
      "filtered data is size: 43\n",
      "Median FWHM_IMAGE 1.64 Mean FWHM_IMAGE 1.7630232558139536\n",
      "-------------\n",
      "/home/wes/Astronomy/Data/GoGreen/j020548m5829/ProData/newHeader_j0205_conv_sept21_11.fits\n",
      "convolved by FWHM 1.2264285714285361 pixels, aka 0.12264285714285018 arcsec kernel\n"
     ]
    },
    {
     "name": "stderr",
     "output_type": "stream",
     "text": [
      "Ouch, SExtractor complains :\n",
      "b''\n"
     ]
    },
    {
     "name": "stdout",
     "output_type": "stream",
     "text": [
      "filtered data is size: 43\n",
      "Median FWHM_IMAGE 1.65 Mean FWHM_IMAGE 1.7711627906976746\n",
      "-------------\n",
      "/home/wes/Astronomy/Data/GoGreen/j020548m5829/ProData/newHeader_j0205_conv_sept21_12.fits\n",
      "convolved by FWHM 1.2342857142856758 pixels, aka 0.12342857142856412 arcsec kernel\n"
     ]
    },
    {
     "name": "stderr",
     "output_type": "stream",
     "text": [
      "Ouch, SExtractor complains :\n",
      "b''\n"
     ]
    },
    {
     "name": "stdout",
     "output_type": "stream",
     "text": [
      "filtered data is size: 45\n",
      "Median FWHM_IMAGE 1.66 Mean FWHM_IMAGE 1.805777777777778\n",
      "-------------\n",
      "/home/wes/Astronomy/Data/GoGreen/j020548m5829/ProData/newHeader_j0205_conv_sept21_13.fits\n",
      "convolved by FWHM 1.2421428571428155 pixels, aka 0.12421428571427806 arcsec kernel\n"
     ]
    },
    {
     "name": "stderr",
     "output_type": "stream",
     "text": [
      "Ouch, SExtractor complains :\n",
      "b''\n"
     ]
    },
    {
     "name": "stdout",
     "output_type": "stream",
     "text": [
      "filtered data is size: 46\n",
      "Median FWHM_IMAGE 1.67 Mean FWHM_IMAGE 1.8076086956521737\n",
      "-------------\n",
      "/home/wes/Astronomy/Data/GoGreen/j020548m5829/ProData/newHeader_j0205_conv_sept21_14.fits\n",
      "convolved by FWHM 1.249999999999955 pixels, aka 0.124999999999992 arcsec kernel\n",
      "filtered data is size: 47\n",
      "Median FWHM_IMAGE 1.67 Mean FWHM_IMAGE 1.804468085106383\n",
      "-------------\n"
     ]
    }
   ],
   "source": [
    "#cell 5\n",
    "#now need to run SE, make a table, and find out how to work with that table\n",
    "#from making a catalog and visually inspecting it with topcat, we found convolved j2106_f606w's best stellar sequence is fwhm_image <5 mag -2.2 to -1.0\n",
    "#these parameters are adjustable with default keywords in the calcfwhm function but at the end of the day they will rely somewhat on the fwhm_red_pix and fwhm_blue_pix set in the 2nd cell of this notebook to eventually define what is and is not a star.\n",
    "#therefore star_limit keyword (which refers to the value of the CLASS_STAR parameter from Source Extractor) can indeed vary significantly depending on what is fed into makecat for the see parameter. I default use fwhm_red_arc (must be in arc per SE's requirements) since that is going to be  unconvolved/we are putting the convolved blue values in TERMS of the red image.\n",
    "#outdated(newest is sep21)\n",
    "\n",
    "fwhm_median=[]\n",
    "i=0\n",
    "for item in files:\n",
    "    print(item)\n",
    "    yval=yarray[i] #in pixels\n",
    "    yval2=yarray1[i]\n",
    "    print('convolved by FWHM',yval,'pixels, aka',yval2,'arcsec kernel')\n",
    "    table1=ic.makecat(item,see=fwhm_red_recalc_arc)\n",
    "    pseudomags=(-1.0)*np.log10(table1['FLUX_APER'])\n",
    "    table1['MAG']=pseudomags\n",
    "    #plt.plot(table1['MAG'],table1['FWHM_IMAGE'],'ro')\n",
    "    #plt.title('Does the stellar sequence stay appropriate in this pre-determined range?')\n",
    "    #plt.ylim(0.0,4.5)\n",
    "    #plt.xlim(-2.2,-1.0)\n",
    "    #plt.show()\n",
    "    newlimitedtable=ic.calcfwhm(table1)\n",
    "    #you can enter plottin=True as an optional argument in calcfwhm\n",
    "    #that lets you see the stellar sequence that falls in the selection range used for making a new, limited table\n",
    "    fwhmmed=np.median(newlimitedtable['FWHM_IMAGE'])\n",
    "    fwhm_median.append(fwhmmed)\n",
    "    print('-------------')\n",
    "    i+=1"
   ]
  },
  {
   "cell_type": "markdown",
   "metadata": {},
   "source": [
    "## Cell 6:"
   ]
  },
  {
   "cell_type": "code",
   "execution_count": 8,
   "metadata": {},
   "outputs": [
    {
     "name": "stdout",
     "output_type": "stream",
     "text": [
      "well, originally...\n"
     ]
    },
    {
     "data": {
      "image/png": "[encoded data removed]",
      "text/plain": [
       "<Figure size 432x288 with 1 Axes>"
      ]
     },
     "metadata": {
      "needs_background": "light"
     },
     "output_type": "display_data"
    },
    {
     "name": "stdout",
     "output_type": "stream",
     "text": [
      "the file identifier that produces the best psf fitting is 0 which uses a FWHM of 1.46\n",
      "originally, red image's median FWHM was 1.1400000000000001\n",
      "so that means, either go onward to calculate a more precise kernel (probably for the best), or use  /home/wes/Astronomy/Data/GoGreen/j020548m5829/ProData/newHeader_j0205_conv_sept21_0.fits\n"
     ]
    }
   ],
   "source": [
    "##cell 6\n",
    "#USE THIS PLOT TO MAKE A QUICK DETERMINATION OF WHAT CONVOLUTION KERNEL BEST RE-PRODUCES THE FWHM OF THE RED IMAGE\n",
    "#the short code below plt.show() does the calculation for you to find k, the identifier for the best-fit kernel fwhm\n",
    "#also note that due to the yarray set-up, it plots the points from right to left\n",
    "#so count from right to left if you use the image.\n",
    "\n",
    "print('well, originally...')\n",
    "plt.plot(yarray,fwhm_median,'ro')\n",
    "plt.hlines(fwhm_red_pix,xmin=yarray[0],xmax=yarray[len(yarray)-1],label='measured fwhm of F105 image (pix)')\n",
    "plt.hlines(fwhm_red_recalcd,xmin=yarray[0],xmax=yarray[len(yarray)-1],label='calculated fwhm_image of stars F105w (pix)',linestyle=':')\n",
    "plt.xlabel('fwhm of convolution kernel (pix)')\n",
    "plt.ylabel('median fwhm_image of convolved f606w image (pix)')\n",
    "plt.legend()\n",
    "plt.show()\n",
    "\n",
    "#this figures out which of the results is the best fit to the required PSF\n",
    "s=abs(fwhm_median-fwhm_red_recalcd)\n",
    "g=[]\n",
    "#b='%.3f'%s[:]\n",
    "#print(b)\n",
    "for n in s:\n",
    "    f='%.3f'%n\n",
    "    r= float(f) == np.around(s.min(),3)\n",
    "    g.append(r)\n",
    "\n",
    "k= int(np.where(g)[0])\n",
    "print('the file identifier that produces the best psf fitting is',k,'which uses a FWHM of',fwhm_median[k])\n",
    "print('originally, red image\\'s median FWHM was',fwhm_red_recalcd)\n",
    "print('so that means, either go onward to calculate a more precise kernel (probably for the best), or use ',files[k])"
   ]
  },
  {
   "cell_type": "markdown",
   "metadata": {},
   "source": [
    "## Cell 7:"
   ]
  },
  {
   "cell_type": "code",
   "execution_count": 9,
   "metadata": {},
   "outputs": [
    {
     "name": "stdout",
     "output_type": "stream",
     "text": [
      "convolving...\n",
      "/home/wes/Astronomy/Data/GoGreen/j020548m5829/ProData/newHeader_j0205_conv_sept21b_0.fits\n",
      "convolving...\n",
      "/home/wes/Astronomy/Data/GoGreen/j020548m5829/ProData/newHeader_j0205_conv_sept21b_1.fits\n",
      "convolving...\n",
      "/home/wes/Astronomy/Data/GoGreen/j020548m5829/ProData/newHeader_j0205_conv_sept21b_2.fits\n",
      "convolving...\n"
     ]
    },
    {
     "ename": "KeyboardInterrupt",
     "evalue": "",
     "output_type": "error",
     "traceback": [
      "\u001b[0;31m---------------------------------------------------------------------------\u001b[0m",
      "\u001b[0;31mKeyboardInterrupt\u001b[0m                         Traceback (most recent call last)",
      "\u001b[0;32m/tmp/ipykernel_4703/223604116.py\u001b[0m in \u001b[0;36m<module>\u001b[0;34m\u001b[0m\n\u001b[1;32m     12\u001b[0m \u001b[0mfiles2\u001b[0m\u001b[0;34m=\u001b[0m\u001b[0;34m[\u001b[0m\u001b[0;34m]\u001b[0m\u001b[0;34m\u001b[0m\u001b[0;34m\u001b[0m\u001b[0m\n\u001b[1;32m     13\u001b[0m \u001b[0;32mfor\u001b[0m \u001b[0mitem2\u001b[0m \u001b[0;32min\u001b[0m \u001b[0myarr2\u001b[0m\u001b[0;34m:\u001b[0m \u001b[0;31m#now use yarr2 for higher precision\u001b[0m\u001b[0;34m\u001b[0m\u001b[0;34m\u001b[0m\u001b[0m\n\u001b[0;32m---> 14\u001b[0;31m     \u001b[0mfilename2\u001b[0m\u001b[0;34m=\u001b[0m\u001b[0mic\u001b[0m\u001b[0;34m.\u001b[0m\u001b[0mconv2Dgauss\u001b[0m\u001b[0;34m(\u001b[0m\u001b[0mfilereprojd\u001b[0m\u001b[0;34m,\u001b[0m\u001b[0mitem2\u001b[0m\u001b[0;34m,\u001b[0m\u001b[0mi\u001b[0m\u001b[0;34m,\u001b[0m\u001b[0mident\u001b[0m\u001b[0;34m=\u001b[0m\u001b[0mident2\u001b[0m\u001b[0;34m)\u001b[0m\u001b[0;34m\u001b[0m\u001b[0;34m\u001b[0m\u001b[0m\n\u001b[0m\u001b[1;32m     15\u001b[0m     \u001b[0mi\u001b[0m\u001b[0;34m+=\u001b[0m\u001b[0;36m1\u001b[0m\u001b[0;34m\u001b[0m\u001b[0;34m\u001b[0m\u001b[0m\n\u001b[1;32m     16\u001b[0m     \u001b[0mfiles2\u001b[0m\u001b[0;34m.\u001b[0m\u001b[0mappend\u001b[0m\u001b[0;34m(\u001b[0m\u001b[0mfilename2\u001b[0m\u001b[0;34m)\u001b[0m\u001b[0;34m\u001b[0m\u001b[0;34m\u001b[0m\u001b[0m\n",
      "\u001b[0;32m~/Astronomy/Code/catalog_creation/convolution/iterate_convolution.py\u001b[0m in \u001b[0;36mconv2Dgauss\u001b[0;34m(fitsfilein, fwhm, i, ident)\u001b[0m\n\u001b[1;32m     43\u001b[0m     \u001b[0;32melse\u001b[0m\u001b[0;34m:\u001b[0m\u001b[0;34m\u001b[0m\u001b[0;34m\u001b[0m\u001b[0m\n\u001b[1;32m     44\u001b[0m         \u001b[0mprint\u001b[0m\u001b[0;34m(\u001b[0m\u001b[0;34m'convolving...'\u001b[0m\u001b[0;34m)\u001b[0m\u001b[0;34m\u001b[0m\u001b[0;34m\u001b[0m\u001b[0m\n\u001b[0;32m---> 45\u001b[0;31m         \u001b[0mastrconv\u001b[0m\u001b[0;34m=\u001b[0m\u001b[0mconvolve\u001b[0m\u001b[0;34m(\u001b[0m\u001b[0mimg\u001b[0m\u001b[0;34m,\u001b[0m\u001b[0mkern\u001b[0m\u001b[0;34m)\u001b[0m\u001b[0;34m\u001b[0m\u001b[0;34m\u001b[0m\u001b[0m\n\u001b[0m\u001b[1;32m     46\u001b[0m         \u001b[0mfits1\u001b[0m\u001b[0;34m[\u001b[0m\u001b[0;36m0\u001b[0m\u001b[0;34m]\u001b[0m\u001b[0;34m.\u001b[0m\u001b[0mdata\u001b[0m\u001b[0;34m=\u001b[0m\u001b[0mastrconv\u001b[0m\u001b[0;34m\u001b[0m\u001b[0;34m\u001b[0m\u001b[0m\n\u001b[1;32m     47\u001b[0m         \u001b[0mfilenameout\u001b[0m\u001b[0;34m=\u001b[0m\u001b[0moutfile\u001b[0m\u001b[0;34m\u001b[0m\u001b[0;34m\u001b[0m\u001b[0m\n",
      "\u001b[0;32m~/Astronomy/Software/anaconda3/lib/python3.9/site-packages/astropy/nddata/decorators.py\u001b[0m in \u001b[0;36mwrapper\u001b[0;34m(data, *args, **kwargs)\u001b[0m\n\u001b[1;32m    244\u001b[0m                                   AstropyUserWarning)\n\u001b[1;32m    245\u001b[0m \u001b[0;34m\u001b[0m\u001b[0m\n\u001b[0;32m--> 246\u001b[0;31m             \u001b[0mresult\u001b[0m \u001b[0;34m=\u001b[0m \u001b[0mfunc\u001b[0m\u001b[0;34m(\u001b[0m\u001b[0mdata\u001b[0m\u001b[0;34m,\u001b[0m \u001b[0;34m*\u001b[0m\u001b[0margs\u001b[0m\u001b[0;34m,\u001b[0m \u001b[0;34m**\u001b[0m\u001b[0mkwargs\u001b[0m\u001b[0;34m)\u001b[0m\u001b[0;34m\u001b[0m\u001b[0;34m\u001b[0m\u001b[0m\n\u001b[0m\u001b[1;32m    247\u001b[0m \u001b[0;34m\u001b[0m\u001b[0m\n\u001b[1;32m    248\u001b[0m             \u001b[0;32mif\u001b[0m \u001b[0munpack\u001b[0m \u001b[0;32mand\u001b[0m \u001b[0mrepack\u001b[0m\u001b[0;34m:\u001b[0m\u001b[0;34m\u001b[0m\u001b[0;34m\u001b[0m\u001b[0m\n",
      "\u001b[0;32m~/Astronomy/Software/anaconda3/lib/python3.9/site-packages/astropy/convolution/convolve.py\u001b[0m in \u001b[0;36mconvolve\u001b[0;34m(array, kernel, boundary, fill_value, nan_treatment, normalize_kernel, mask, preserve_nan, normalization_zero_tol)\u001b[0m\n\u001b[1;32m    419\u001b[0m         \u001b[0;31m# Avoid making another copy if possible\u001b[0m\u001b[0;34m\u001b[0m\u001b[0;34m\u001b[0m\u001b[0m\n\u001b[1;32m    420\u001b[0m         \u001b[0;32mtry\u001b[0m\u001b[0;34m:\u001b[0m\u001b[0;34m\u001b[0m\u001b[0;34m\u001b[0m\u001b[0m\n\u001b[0;32m--> 421\u001b[0;31m             \u001b[0;32mreturn\u001b[0m \u001b[0mresult\u001b[0m\u001b[0;34m.\u001b[0m\u001b[0mastype\u001b[0m\u001b[0;34m(\u001b[0m\u001b[0marray_dtype\u001b[0m\u001b[0;34m,\u001b[0m \u001b[0mcopy\u001b[0m\u001b[0;34m=\u001b[0m\u001b[0;32mFalse\u001b[0m\u001b[0;34m)\u001b[0m\u001b[0;34m\u001b[0m\u001b[0;34m\u001b[0m\u001b[0m\n\u001b[0m\u001b[1;32m    422\u001b[0m         \u001b[0;32mexcept\u001b[0m \u001b[0mTypeError\u001b[0m\u001b[0;34m:\u001b[0m\u001b[0;34m\u001b[0m\u001b[0;34m\u001b[0m\u001b[0m\n\u001b[1;32m    423\u001b[0m             \u001b[0;32mreturn\u001b[0m \u001b[0mresult\u001b[0m\u001b[0;34m.\u001b[0m\u001b[0mastype\u001b[0m\u001b[0;34m(\u001b[0m\u001b[0marray_dtype\u001b[0m\u001b[0;34m)\u001b[0m\u001b[0;34m\u001b[0m\u001b[0;34m\u001b[0m\u001b[0m\n",
      "\u001b[0;31mKeyboardInterrupt\u001b[0m: "
     ]
    }
   ],
   "source": [
    "#cell 7\n",
    "#For a more accurate convolution, take the best fit point at k and convolve more closely around it.\n",
    "#\n",
    "#use yarr2 in replace of yarray1\n",
    "ymax=yarray1[k]+0.01\n",
    "ymin=yarray1[k]-0.01\n",
    "ya2=np.linspace(ymax,ymin,20,endpoint=True)\n",
    "yarr2=ya2/cd1_reproj_arc\n",
    "\n",
    "\n",
    "i=0\n",
    "files2=[]\n",
    "for item2 in yarr2: #now use yarr2 for higher precision\n",
    "    filename2=ic.conv2Dgauss(filereprojd,item2,i,ident=ident2)\n",
    "    i+=1\n",
    "    files2.append(filename2)\n",
    "    print(filename2)\n",
    "print('done convolving')"
   ]
  },
  {
   "cell_type": "markdown",
   "metadata": {},
   "source": [
    "## Cell 8:"
   ]
  },
  {
   "cell_type": "code",
   "execution_count": 10,
   "metadata": {},
   "outputs": [
    {
     "name": "stdout",
     "output_type": "stream",
     "text": [
      "/home/wes/Astronomy/Data/GoGreen/j020548m5829/ProData/newHeader_j0205_conv_sept21b_0.fits\n",
      "convolved by FWHM 1.2400000000000029 pixels, aka 0.12399999999999682 arcsec kernel\n"
     ]
    },
    {
     "name": "stderr",
     "output_type": "stream",
     "text": [
      "Ouch, SExtractor complains :\n",
      "b''\n"
     ]
    },
    {
     "name": "stdout",
     "output_type": "stream",
     "text": [
      "filtered data is size: 63\n",
      "Median FWHM_IMAGE 1.59 Mean FWHM_IMAGE 1.6793650793650792\n",
      "-------------\n",
      "/home/wes/Astronomy/Data/GoGreen/j020548m5829/ProData/newHeader_j0205_conv_sept21b_1.fits\n",
      "convolved by FWHM 1.229473684210529 pixels, aka 0.12294736842104945 arcsec kernel\n"
     ]
    },
    {
     "name": "stderr",
     "output_type": "stream",
     "text": [
      "Ouch, SExtractor complains :\n",
      "b''\n",
      "Ouch, SExtractor complains :\n",
      "b''\n"
     ]
    },
    {
     "name": "stdout",
     "output_type": "stream",
     "text": [
      "filtered data is size: 63\n",
      "Median FWHM_IMAGE 1.56 Mean FWHM_IMAGE 1.661904761904762\n",
      "-------------\n",
      "/home/wes/Astronomy/Data/GoGreen/j020548m5829/ProData/newHeader_j0205_conv_sept21b_2.fits\n",
      "convolved by FWHM 1.218947368421055 pixels, aka 0.12189473684210209 arcsec kernel\n"
     ]
    },
    {
     "name": "stderr",
     "output_type": "stream",
     "text": [
      "Ouch, SExtractor complains :\n",
      "b''\n"
     ]
    },
    {
     "name": "stdout",
     "output_type": "stream",
     "text": [
      "filtered data is size: 63\n",
      "Median FWHM_IMAGE 1.54 Mean FWHM_IMAGE 1.6426984126984125\n",
      "-------------\n",
      "/home/wes/Astronomy/Data/GoGreen/j020548m5829/ProData/newHeader_j0205_conv_sept21b_3.fits\n",
      "convolved by FWHM 1.2084210526315808 pixels, aka 0.12084210526315471 arcsec kernel\n"
     ]
    },
    {
     "name": "stderr",
     "output_type": "stream",
     "text": [
      "Ouch, SExtractor complains :\n",
      "b''\n"
     ]
    },
    {
     "name": "stdout",
     "output_type": "stream",
     "text": [
      "filtered data is size: 63\n",
      "Median FWHM_IMAGE 1.53 Mean FWHM_IMAGE 1.6409523809523807\n",
      "-------------\n",
      "/home/wes/Astronomy/Data/GoGreen/j020548m5829/ProData/newHeader_j0205_conv_sept21b_4.fits\n",
      "convolved by FWHM 1.1978947368421071 pixels, aka 0.11978947368420735 arcsec kernel\n",
      "filtered data is size: 63\n",
      "Median FWHM_IMAGE 1.52 Mean FWHM_IMAGE 1.6284126984126985\n",
      "-------------\n",
      "/home/wes/Astronomy/Data/GoGreen/j020548m5829/ProData/newHeader_j0205_conv_sept21b_5.fits\n",
      "convolved by FWHM 1.187368421052633 pixels, aka 0.11873684210525998 arcsec kernel\n"
     ]
    },
    {
     "name": "stderr",
     "output_type": "stream",
     "text": [
      "Ouch, SExtractor complains :\n",
      "b''\n",
      "Ouch, SExtractor complains :\n",
      "b''\n"
     ]
    },
    {
     "name": "stdout",
     "output_type": "stream",
     "text": [
      "filtered data is size: 63\n",
      "Median FWHM_IMAGE 1.51 Mean FWHM_IMAGE 1.6134920634920635\n",
      "-------------\n",
      "/home/wes/Astronomy/Data/GoGreen/j020548m5829/ProData/newHeader_j0205_conv_sept21b_6.fits\n",
      "convolved by FWHM 1.176842105263159 pixels, aka 0.11768421052631262 arcsec kernel\n"
     ]
    },
    {
     "name": "stderr",
     "output_type": "stream",
     "text": [
      "Ouch, SExtractor complains :\n",
      "b''\n"
     ]
    },
    {
     "name": "stdout",
     "output_type": "stream",
     "text": [
      "filtered data is size: 63\n",
      "Median FWHM_IMAGE 1.49 Mean FWHM_IMAGE 1.5993650793650793\n",
      "-------------\n",
      "/home/wes/Astronomy/Data/GoGreen/j020548m5829/ProData/newHeader_j0205_conv_sept21b_7.fits\n",
      "convolved by FWHM 1.166315789473685 pixels, aka 0.11663157894736524 arcsec kernel\n"
     ]
    },
    {
     "name": "stderr",
     "output_type": "stream",
     "text": [
      "Ouch, SExtractor complains :\n",
      "b''\n"
     ]
    },
    {
     "name": "stdout",
     "output_type": "stream",
     "text": [
      "filtered data is size: 63\n",
      "Median FWHM_IMAGE 1.48 Mean FWHM_IMAGE 1.5755555555555556\n",
      "-------------\n",
      "/home/wes/Astronomy/Data/GoGreen/j020548m5829/ProData/newHeader_j0205_conv_sept21b_8.fits\n",
      "convolved by FWHM 1.1557894736842111 pixels, aka 0.11557894736841788 arcsec kernel\n"
     ]
    },
    {
     "name": "stderr",
     "output_type": "stream",
     "text": [
      "Ouch, SExtractor complains :\n",
      "b''\n"
     ]
    },
    {
     "name": "stdout",
     "output_type": "stream",
     "text": [
      "filtered data is size: 62\n",
      "Median FWHM_IMAGE 1.4649999999999999 Mean FWHM_IMAGE 1.521290322580645\n",
      "-------------\n",
      "/home/wes/Astronomy/Data/GoGreen/j020548m5829/ProData/newHeader_j0205_conv_sept21b_9.fits\n",
      "convolved by FWHM 1.1452631578947372 pixels, aka 0.1145263157894705 arcsec kernel\n"
     ]
    },
    {
     "name": "stderr",
     "output_type": "stream",
     "text": [
      "Ouch, SExtractor complains :\n",
      "b''\n"
     ]
    },
    {
     "name": "stdout",
     "output_type": "stream",
     "text": [
      "filtered data is size: 61\n",
      "Median FWHM_IMAGE 1.46 Mean FWHM_IMAGE 1.479016393442623\n",
      "-------------\n",
      "/home/wes/Astronomy/Data/GoGreen/j020548m5829/ProData/newHeader_j0205_conv_sept21b_10.fits\n",
      "convolved by FWHM 1.1347368421052633 pixels, aka 0.11347368421052315 arcsec kernel\n",
      "filtered data is size: 61\n",
      "Median FWHM_IMAGE 1.43 Mean FWHM_IMAGE 1.4665573770491804\n",
      "-------------\n",
      "/home/wes/Astronomy/Data/GoGreen/j020548m5829/ProData/newHeader_j0205_conv_sept21b_11.fits\n",
      "convolved by FWHM 1.124210526315789 pixels, aka 0.11242105263157577 arcsec kernel\n"
     ]
    },
    {
     "name": "stderr",
     "output_type": "stream",
     "text": [
      "Ouch, SExtractor complains :\n",
      "b''\n",
      "Ouch, SExtractor complains :\n",
      "b''\n"
     ]
    },
    {
     "name": "stdout",
     "output_type": "stream",
     "text": [
      "filtered data is size: 61\n",
      "Median FWHM_IMAGE 1.42 Mean FWHM_IMAGE 1.4552459016393442\n",
      "-------------\n",
      "/home/wes/Astronomy/Data/GoGreen/j020548m5829/ProData/newHeader_j0205_conv_sept21b_12.fits\n",
      "convolved by FWHM 1.1136842105263152 pixels, aka 0.11136842105262841 arcsec kernel\n"
     ]
    },
    {
     "name": "stderr",
     "output_type": "stream",
     "text": [
      "Ouch, SExtractor complains :\n",
      "b''\n"
     ]
    },
    {
     "name": "stdout",
     "output_type": "stream",
     "text": [
      "filtered data is size: 62\n",
      "Median FWHM_IMAGE 1.41 Mean FWHM_IMAGE 1.4359677419354835\n",
      "-------------\n",
      "/home/wes/Astronomy/Data/GoGreen/j020548m5829/ProData/newHeader_j0205_conv_sept21b_13.fits\n",
      "convolved by FWHM 1.1031578947368412 pixels, aka 0.11031578947368104 arcsec kernel\n"
     ]
    },
    {
     "name": "stderr",
     "output_type": "stream",
     "text": [
      "Ouch, SExtractor complains :\n",
      "b''\n"
     ]
    },
    {
     "name": "stdout",
     "output_type": "stream",
     "text": [
      "filtered data is size: 62\n",
      "Median FWHM_IMAGE 1.395 Mean FWHM_IMAGE 1.424677419354839\n",
      "-------------\n",
      "/home/wes/Astronomy/Data/GoGreen/j020548m5829/ProData/newHeader_j0205_conv_sept21b_14.fits\n",
      "convolved by FWHM 1.0926315789473673 pixels, aka 0.10926315789473368 arcsec kernel\n"
     ]
    },
    {
     "name": "stderr",
     "output_type": "stream",
     "text": [
      "Ouch, SExtractor complains :\n",
      "b''\n"
     ]
    },
    {
     "name": "stdout",
     "output_type": "stream",
     "text": [
      "filtered data is size: 62\n",
      "Median FWHM_IMAGE 1.3849999999999998 Mean FWHM_IMAGE 1.4108064516129033\n",
      "-------------\n",
      "/home/wes/Astronomy/Data/GoGreen/j020548m5829/ProData/newHeader_j0205_conv_sept21b_15.fits\n",
      "convolved by FWHM 1.0821052631578933 pixels, aka 0.1082105263157863 arcsec kernel\n"
     ]
    },
    {
     "name": "stderr",
     "output_type": "stream",
     "text": [
      "Ouch, SExtractor complains :\n",
      "b''\n"
     ]
    },
    {
     "name": "stdout",
     "output_type": "stream",
     "text": [
      "filtered data is size: 62\n",
      "Median FWHM_IMAGE 1.375 Mean FWHM_IMAGE 1.400806451612903\n",
      "-------------\n",
      "/home/wes/Astronomy/Data/GoGreen/j020548m5829/ProData/newHeader_j0205_conv_sept21b_16.fits\n",
      "convolved by FWHM 1.0715789473684192 pixels, aka 0.10715789473683893 arcsec kernel\n"
     ]
    },
    {
     "name": "stderr",
     "output_type": "stream",
     "text": [
      "Ouch, SExtractor complains :\n",
      "b''\n"
     ]
    },
    {
     "name": "stdout",
     "output_type": "stream",
     "text": [
      "filtered data is size: 62\n",
      "Median FWHM_IMAGE 1.35 Mean FWHM_IMAGE 1.3722580645161295\n",
      "-------------\n",
      "/home/wes/Astronomy/Data/GoGreen/j020548m5829/ProData/newHeader_j0205_conv_sept21b_17.fits\n",
      "convolved by FWHM 1.0610526315789452 pixels, aka 0.10610526315789157 arcsec kernel\n"
     ]
    },
    {
     "name": "stderr",
     "output_type": "stream",
     "text": [
      "Ouch, SExtractor complains :\n",
      "b''\n"
     ]
    },
    {
     "name": "stdout",
     "output_type": "stream",
     "text": [
      "filtered data is size: 62\n",
      "Median FWHM_IMAGE 1.34 Mean FWHM_IMAGE 1.3632258064516127\n",
      "-------------\n",
      "/home/wes/Astronomy/Data/GoGreen/j020548m5829/ProData/newHeader_j0205_conv_sept21b_18.fits\n",
      "convolved by FWHM 1.0505263157894715 pixels, aka 0.1050526315789442 arcsec kernel\n",
      "filtered data is size: 62\n",
      "Median FWHM_IMAGE 1.33 Mean FWHM_IMAGE 1.3511290322580645\n",
      "-------------\n",
      "/home/wes/Astronomy/Data/GoGreen/j020548m5829/ProData/newHeader_j0205_conv_sept21b_19.fits\n",
      "convolved by FWHM 1.0399999999999974 pixels, aka 0.10399999999999683 arcsec kernel\n"
     ]
    },
    {
     "name": "stderr",
     "output_type": "stream",
     "text": [
      "Ouch, SExtractor complains :\n",
      "b''\n"
     ]
    },
    {
     "name": "stdout",
     "output_type": "stream",
     "text": [
      "filtered data is size: 62\n",
      "Median FWHM_IMAGE 1.32 Mean FWHM_IMAGE 1.3479032258064518\n",
      "-------------\n"
     ]
    }
   ],
   "source": [
    "#cell 8\n",
    "#the same as Cell 4 above-- calculate the resultant fwhm for the convolved images\n",
    "fwhm_median2=[]\n",
    "j=0\n",
    "for item in files2:\n",
    "    print(item)\n",
    "    yval=yarr2[j] #in pixels\n",
    "    yval2=ya2[j] #in arcsec\n",
    "    print('convolved by FWHM',yval,'pixels, aka',yval2,'arcsec kernel')\n",
    "    table2=ic.makecat(item,see=fwhm_red_pix)\n",
    "    pseudomags2=(-1.0)*np.log10(table2['FLUX_APER'])\n",
    "    table2['MAG']=pseudomags2\n",
    "    #plt.plot(table1['MAG'],table1['FWHM_IMAGE'],'ro')\n",
    "    #plt.title('Does the stellar sequence stay appropriate in this pre-determined range?')\n",
    "    #plt.ylim(0.0,4.5)\n",
    "    #plt.xlim(-2.2,-1.0)\n",
    "    #plt.show() \n",
    "    newlimitedtable2=ic.calcfwhm(table2)\n",
    "    #you can enter plottin=True as an optional argument in calcfwhm\n",
    "    #that lets you see the stellar sequence that falls in the selection range used for making a new, limited table\n",
    "    fwhmmed2=np.median(newlimitedtable2['FWHM_IMAGE'])\n",
    "    fwhm_median2.append(fwhmmed2)\n",
    "    print('-------------')\n",
    "    j+=1\n",
    "    "
   ]
  },
  {
   "cell_type": "markdown",
   "metadata": {},
   "source": [
    "## Cell 9:"
   ]
  },
  {
   "cell_type": "code",
   "execution_count": 11,
   "metadata": {},
   "outputs": [
    {
     "name": "stdout",
     "output_type": "stream",
     "text": [
      "well, originally...\n"
     ]
    },
    {
     "data": {
      "image/png": "[encoded data removed]",
      "text/plain": [
       "<Figure size 432x288 with 1 Axes>"
      ]
     },
     "metadata": {
      "needs_background": "light"
     },
     "output_type": "display_data"
    },
    {
     "name": "stdout",
     "output_type": "stream",
     "text": [
      "now, with higher accuracy:\n"
     ]
    },
    {
     "data": {
      "image/png": "[encoded data removed]",
      "text/plain": [
       "<Figure size 432x288 with 1 Axes>"
      ]
     },
     "metadata": {
      "needs_background": "light"
     },
     "output_type": "display_data"
    },
    {
     "name": "stdout",
     "output_type": "stream",
     "text": [
      "the file identifier that produces the best psf fitting is 19 which uses a FWHM of 1.32\n",
      "originally, red image's median FWHM was 1.1400000000000001\n",
      "so use  /home/wes/Astronomy/Data/GoGreen/j020548m5829/ProData/newHeader_j0205_conv_sept21b_19.fits\n"
     ]
    }
   ],
   "source": [
    "#cell 9\n",
    "###now, compare the two plots\n",
    "\n",
    "#also note that due to the yarray set-up, it plots the points from right to left\n",
    "#so count from right to left if you use the image.\n",
    "print('well, originally...')\n",
    "plt.plot(yarray,fwhm_median,'ro')\n",
    "plt.hlines(fwhm_red_pix,xmin=yarray[0],xmax=yarray[len(yarray)-1],label='measured fwhm of F105 image (pix)')\n",
    "plt.hlines(fwhm_red_recalcd,xmin=yarray[0],xmax=yarray[len(yarray)-1],label='calculated fwhm_image of stars F105w (pix)',linestyle=':')\n",
    "plt.xlabel('fwhm of convolution kernel (pix)')\n",
    "plt.ylabel('median fwhm_image of convolved f606w image (pix)')\n",
    "plt.legend()\n",
    "plt.show()\n",
    "\n",
    "#also note that due to the yarr2 set-up, it plots the points from right to left\n",
    "#so count from right to left if you use the image.\n",
    "print('now, with higher accuracy:')\n",
    "plt.plot(yarr2,fwhm_median2,'ro')\n",
    "plt.hlines(fwhm_red_pix,xmin=yarr2[0],xmax=yarr2[len(yarr2)-1],label='measured FWHM of F105W image (Pixels)')\n",
    "plt.hlines(fwhm_red_recalcd,xmin=yarray[0],xmax=yarray[len(yarray)-1],label='calculated fwhm_image of stars F105w (pix)',linestyle=':')\n",
    "plt.xlabel('FWHM of convolution kernel (pixels)')\n",
    "plt.ylabel('Median FWHM_IMAGE of convolved F606w image')\n",
    "plt.legend()\n",
    "plt.show()\n",
    "\n",
    "\n",
    "o=abs(fwhm_median2-fwhm_red_recalcd)\n",
    "p=[]\n",
    "#b='%.3f'%s[:]\n",
    "#print(b)\n",
    "for y in o:\n",
    "    f='%.3f'%y\n",
    "    r= float(f) == np.around(o.min(),3)\n",
    "    p.append(r)\n",
    "\n",
    "t= int(np.where(p)[0])\n",
    "print('the file identifier that produces the best psf fitting is',t,'which uses a FWHM of',fwhm_median2[t])\n",
    "print('originally, red image\\'s median FWHM was',fwhm_red_recalcd)\n",
    "print('so use ',files2[t])"
   ]
  },
  {
   "cell_type": "markdown",
   "metadata": {},
   "source": [
    "# **below this is a mostly obsolete example. 'ware all who enter here**"
   ]
  },
  {
   "cell_type": "code",
   "execution_count": 9,
   "metadata": {},
   "outputs": [
    {
     "name": "stderr",
     "output_type": "stream",
     "text": [
      "Ouch, SExtractor complains :\n",
      "b''\n"
     ]
    },
    {
     "name": "stdout",
     "output_type": "stream",
     "text": [
      "table105 seeing and pixel scale 0.19499999999999454 0.0999999999999972\n",
      "filtered data is size: 6\n",
      "Median FWHM_IMAGE 1.55 Mean FWHM_IMAGE 1.4066666666666665\n"
     ]
    },
    {
     "name": "stderr",
     "output_type": "stream",
     "text": [
      "/tmp/ipykernel_1150972/1550020436.py:15: RuntimeWarning: invalid value encountered in log10\n",
      "  magsr=(-1.0)*np.log10(table105['FLUX_APER'])\n",
      "Ouch, SExtractor complains :\n",
      "b''\n"
     ]
    },
    {
     "name": "stdout",
     "output_type": "stream",
     "text": [
      "table blue seeing and pixel scale should be familiar 0.2039999999999943 0.0999999999999972\n",
      "filtered data is size: 33\n",
      "Median FWHM_IMAGE 1.58 Mean FWHM_IMAGE 1.7003030303030302\n"
     ]
    },
    {
     "data": {
      "image/png": "[encoded data removed]",
      "text/plain": [
       "<Figure size 432x288 with 1 Axes>"
      ]
     },
     "metadata": {
      "needs_background": "light"
     },
     "output_type": "display_data"
    },
    {
     "name": "stdout",
     "output_type": "stream",
     "text": [
      "/home/wes/Astronomy/Data/GoGreen/j020548m5829/ProData/j0205_f606w_reprj_conv_sept21_5.fits\n"
     ]
    }
   ],
   "source": [
    "####### an example used to see how well a file fits a particular set up. \n",
    "\n",
    "goodfilered=filered\n",
    "hrp=fits.open(goodfilered)\n",
    "goodfileblue=files[5]\n",
    "\n",
    "#since feb217 is the 'good one', the best convolution, let's look at the stellar sequence of that compared to F105w\n",
    "hdr_105=hrp[0].header\n",
    "fwhmpix105=1.95\n",
    "cd1_105=hdr_105['CD1_1']\n",
    "cd105_arc=abs(cd1_105)*3600.0\n",
    "fwhmarc105=fwhmpix105*cd105_arc\n",
    "table105=ic.makecat(goodfilered,see=fwhmarc105,ps=cd105_arc)\n",
    "print('table105 seeing and pixel scale',fwhmarc105,cd105_arc)\n",
    "magsr=(-1.0)*np.log10(table105['FLUX_APER'])\n",
    "table105['MAG']=magsr\n",
    "limitable105=ic.calcfwhm(table105)\n",
    "\n",
    "blueimage=goodfileblue\n",
    "hdb=fits.open(blueimage)\n",
    "hdr_blue2=hdb[0].header\n",
    "#fpixb=1.95\n",
    "fpixb=2.04\n",
    "#gack. where does fpixb come from again? may need to re-measure it\n",
    "cd_blue2=hdr_blue2['CD1_1']\n",
    "cd_arcblue2= abs(cd_blue2)*3600.0\n",
    "farcb=fpixb*cd_arcblue2\n",
    "tab_blu=ic.makecat(blueimage,see=farcb,ps=cd_arcblue2)\n",
    "print('table blue seeing and pixel scale should be familiar',farcb,cd_arcblue2)\n",
    "mblu=(-1.0)*np.log10(tab_blu['FLUX_APER'])\n",
    "tab_blu['MAG']=mblu\n",
    "limblu=ic.calcfwhm(tab_blu)\n",
    "\n",
    "plt.plot(limitable105['MAG'],limitable105['FWHM_IMAGE'],'ro',label='F105W')\n",
    "plt.plot(limblu['MAG'],limblu['FWHM_IMAGE'],'b*',label='F606W, projected and convolved')\n",
    "plt.hlines(np.median(limblu['FWHM_IMAGE']),xmin=np.min(limblu['MAG']),xmax=np.max(limblu['MAG']),color='g',label='median FWHM_IMAGE (pix), f606w')\n",
    "plt.hlines(np.mean(limblu['FWHM_IMAGE']),xmin=np.min(limblu['MAG']),xmax=np.max(limblu['MAG']),color='c',label='mean FWHM_IMAGE (pix), f606w')\n",
    "plt.hlines(np.median(limitable105['FWHM_IMAGE']),xmin=np.min(limitable105['MAG']),xmax=np.max(limitable105['MAG']),linestyle=':',color='r',label='median FWHM_IMAGE (pix), f105w')\n",
    "plt.hlines(np.mean(limitable105['FWHM_IMAGE']),xmin=np.min(limitable105['MAG']),xmax=np.max(limitable105['MAG']),color='m',linestyle=':',label='mean FWHM_IMAGE (pix) f105w')\n",
    "#plt.hlines(1.95,xmin=yarray[0],xmax=yarray[len(yarray)-1],label='measured FWHM of F105W image (Pixels)')\n",
    "plt.xlabel('magnitude (-1 * log(flux_aper))')\n",
    "plt.ylim(1.5,2.25)\n",
    "plt.ylabel('FWHM_IMAGE')\n",
    "plt.legend(fontsize='x-small',loc=\"upper left\")\n",
    "plt.show()\n",
    "\n",
    "print(files[5])\n",
    "\n",
    "\n",
    "#plt.scatter(limtablereproj['MAG'],limtablereproj['FWHM_IMAGE'])\n",
    "#plt.scatter(limitable105['MAG'],limitable105['FWHM_IMAGE'])\n",
    "#plt.show()"
   ]
  }
 ],
 "metadata": {
  "kernelspec": {
   "display_name": "Python 3 (ipykernel)",
   "language": "python",
   "name": "python3"
  },
  "language_info": {
   "codemirror_mode": {
    "name": "ipython",
    "version": 3
   },
   "file_extension": ".py",
   "mimetype": "text/x-python",
   "name": "python",
   "nbconvert_exporter": "python",
   "pygments_lexer": "ipython3",
   "version": "3.9.7"
  }
 },
 "nbformat": 4,
 "nbformat_minor": 4
}
