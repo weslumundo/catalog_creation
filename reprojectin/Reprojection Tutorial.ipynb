{
 "cells": [
  {
   "cell_type": "markdown",
   "id": "73bf19ac",
   "metadata": {},
   "source": [
    "# Reprojecting with Catalog_Creation\n"
   ]
  },
  {
   "cell_type": "markdown",
   "id": "10a5001f",
   "metadata": {},
   "source": [
    "## Reprojecting Images\n",
    "\n",
    "The `reproject_main.py` program creates a new image by reprojecting a reference image onto a target image using the reproject_interp module.\n",
    "\n",
    "PS: The reprojection is performed using the WCS information in the FITS header and will only be as good as that information. Therefore high astrometric accuracy is required in the FITS header."
   ]
  },
  {
   "cell_type": "markdown",
   "id": "6bf8abad",
   "metadata": {},
   "source": [
    "### Before Starting\n",
    "\n",
    "- Make sure all dependencies are met (I think this is taken care of when you pull the repository but I'm not entirely sure)\n",
    "- You don't have to move the files you want reprojected into the `reprojectin` file, but if you don't, you'll have to give the full path to their location \n",
    "- All files, including the desired output name, must end with \"\\_sci.fits\", e.g. j020548m5829-f606w\\_drc_sci.fits\n",
    "- If you have weight files to reproject, make sure they have the same name as their associated science image but end in \"\\_wht.fits\" instead- for example, the science image given above would have an associated weight file named j020548m5829-f606w\\_drc_wht.fits\n",
    "- Associated weight files must be in the same location as their science files"
   ]
  },
  {
   "cell_type": "markdown",
   "id": "ce9c79af",
   "metadata": {},
   "source": [
    "### Doing the Reprojection\n",
    "\n",
    "Pull the Github repository to your computer and open a terminal to get started (for Windows users, use PowerShell instead of the standard cmd window). `cd` to the `reprojectin` file and enter the following to begin reprojection."
   ]
  },
  {
   "cell_type": "markdown",
   "id": "df622a81",
   "metadata": {},
   "source": [
    "    python reproject_main.py [name of target image] [name of reference image] [desired output name]"
   ]
  },
  {
   "cell_type": "markdown",
   "id": "85ca779f",
   "metadata": {},
   "source": [
    "Follow the onscreen prompt to reproject weight files if desired. "
   ]
  },
  {
   "cell_type": "markdown",
   "id": "2d2f1406",
   "metadata": {},
   "source": [
    "    Reproject associated WHT files? Y/N : [your input]"
   ]
  },
  {
   "cell_type": "markdown",
   "id": "fc37159a",
   "metadata": {},
   "source": [
    "### Image Comparisons\n",
    "\n",
    "After passing the weight file reprojection prompt, there will be a second prompt asking about image comparisons. Weight files are not required to use this function. Please note that the image plotting setup is currently very limited and may not accurately display your data."
   ]
  },
  {
   "cell_type": "markdown",
   "id": "a312d84c",
   "metadata": {},
   "source": [
    "    Display reprojected and reference images as a comparison? Y/N : [your input]"
   ]
  },
  {
   "cell_type": "markdown",
   "id": "b36f478d",
   "metadata": {},
   "source": [
    "## Testing Your Reprojection\n",
    "\n",
    "The reprojection testing program `reproject_test.py` is still a work in progress, so it does not have any sort of user interface currently. Because of this, I will give a general summary of  what the end goal with the program is, what it currently does, and what changes need to be made. "
   ]
  },
  {
   "cell_type": "markdown",
   "id": "623ccca0",
   "metadata": {},
   "source": [
    "### End Product\n",
    "\n",
    "This program will compare a reprojection image generated through `reproject_main.py` with its reference image to determine the difference between them by creating a catalog of each image's sources and matching the two lists together. A good reprojection will have a high number of sources in common with its reference. Additionally, four plots will be generated comparing the x and y locations of good matches."
   ]
  },
  {
   "cell_type": "markdown",
   "id": "64cb1763",
   "metadata": {},
   "source": [
    "### Current State\n",
    "\n",
    "The program uses the source extraction tool SourceFinder to write two source catalogs: one from a reference image and one from the reprojected output generated through `reproject_main.py` using said reference image. It then uses the weight files associated with both images to make an effective exposure time map and removes any sources with less than 5% of the total exposure time, helping clear out possible noise. A method for catalog comparison is currently being implemented."
   ]
  },
  {
   "cell_type": "markdown",
   "id": "ca95b9a3",
   "metadata": {},
   "source": [
    "### Changes Needed\n",
    "\n",
    "- Finish implementing catalog comparison, save good matches to their own catalog\n",
    "- Use good matches (only those >40% brightness for visibility purposes) to generate plots comparing their x and y locations\n",
    "- Compute data mean, median, and standard deviation for each plot and display alongside it\n",
    "- Implement user interactivity (replace the hard-coded files with user input)\n",
    "- Re-organize methods in `\\_test_sub.py` to match the order in which they are used"
   ]
  }
 ],
 "metadata": {
  "kernelspec": {
   "display_name": "Python 3 (ipykernel)",
   "language": "python",
   "name": "python3"
  },
  "language_info": {
   "codemirror_mode": {
    "name": "ipython",
    "version": 3
   },
   "file_extension": ".py",
   "mimetype": "text/x-python",
   "name": "python",
   "nbconvert_exporter": "python",
   "pygments_lexer": "ipython3",
   "version": "3.9.12"
  }
 },
 "nbformat": 4,
 "nbformat_minor": 5
}
